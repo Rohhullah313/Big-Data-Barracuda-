{
    "cells": [
        {
            "cell_type": "markdown",
            "metadata": {
                "collapsed": true
            },
            "source": "# Comparison Operators "
        },
        {
            "cell_type": "code",
            "execution_count": 1,
            "metadata": {},
            "outputs": [
                {
                    "data": {
                        "text/plain": "False"
                    },
                    "execution_count": 1,
                    "metadata": {},
                    "output_type": "execute_result"
                }
            ],
            "source": "# Condition equal \na = 5\na == 6"
        },
        {
            "cell_type": "code",
            "execution_count": 2,
            "metadata": {},
            "outputs": [
                {
                    "data": {
                        "text/plain": "True"
                    },
                    "execution_count": 2,
                    "metadata": {},
                    "output_type": "execute_result"
                }
            ],
            "source": "# Greater than sign \ni = 6\ni > 5"
        },
        {
            "cell_type": "code",
            "execution_count": 3,
            "metadata": {},
            "outputs": [
                {
                    "data": {
                        "text/plain": "False"
                    },
                    "execution_count": 3,
                    "metadata": {},
                    "output_type": "execute_result"
                }
            ],
            "source": "i = 2\ni > 5"
        },
        {
            "cell_type": "code",
            "execution_count": 4,
            "metadata": {},
            "outputs": [
                {
                    "data": {
                        "text/plain": "True"
                    },
                    "execution_count": 4,
                    "metadata": {},
                    "output_type": "execute_result"
                }
            ],
            "source": "# Inequality sign\ni = 2\ni != 6"
        },
        {
            "cell_type": "code",
            "execution_count": 5,
            "metadata": {},
            "outputs": [
                {
                    "data": {
                        "text/plain": "False"
                    },
                    "execution_count": 5,
                    "metadata": {},
                    "output_type": "execute_result"
                }
            ],
            "source": "i = 6\ni!= 6"
        },
        {
            "cell_type": "code",
            "execution_count": 6,
            "metadata": {},
            "outputs": [
                {
                    "data": {
                        "text/plain": "False"
                    },
                    "execution_count": 6,
                    "metadata": {},
                    "output_type": "execute_result"
                }
            ],
            "source": "# Use equality sign to compare strings\n\"ACDC\" == \"Michael Jackson\""
        },
        {
            "cell_type": "code",
            "execution_count": 7,
            "metadata": {},
            "outputs": [
                {
                    "data": {
                        "text/plain": "True"
                    },
                    "execution_count": 7,
                    "metadata": {},
                    "output_type": "execute_result"
                }
            ],
            "source": "\" ACDC\" != \"Michael Jackson\""
        },
        {
            "cell_type": "code",
            "execution_count": 1,
            "metadata": {},
            "outputs": [
                {
                    "data": {
                        "text/plain": "True"
                    },
                    "execution_count": 1,
                    "metadata": {},
                    "output_type": "execute_result"
                }
            ],
            "source": "# Compare characters\n'B' > 'A'"
        },
        {
            "cell_type": "code",
            "execution_count": 2,
            "metadata": {},
            "outputs": [
                {
                    "data": {
                        "text/plain": "True"
                    },
                    "execution_count": 2,
                    "metadata": {},
                    "output_type": "execute_result"
                }
            ],
            "source": "'BA' > 'AB'"
        },
        {
            "cell_type": "markdown",
            "metadata": {},
            "source": "# Branching"
        },
        {
            "cell_type": "code",
            "execution_count": 3,
            "metadata": {},
            "outputs": [
                {
                    "name": "stdout",
                    "output_type": "stream",
                    "text": "you can enter\nmove on\n"
                }
            ],
            "source": "# If statement example\nage = 19\nif age > 18:\n    #within an indent, we have the expression that is run if the condition is true\n    print(\"you can enter\")\n#The statements after the if statement will run regardless if the condition is true or false \nprint(\"move on\")\n"
        },
        {
            "cell_type": "code",
            "execution_count": 8,
            "metadata": {},
            "outputs": [
                {
                    "name": "stdout",
                    "output_type": "stream",
                    "text": "go see Meat Loaf\nmove on\n"
                }
            ],
            "source": "# Else statement example\n\nage = 18\nif age > 18:\n    print(\"you can enter\")\nelse:\n        print(\"go see Meat Loaf\")\nprint(\"move on\")"
        },
        {
            "cell_type": "code",
            "execution_count": 9,
            "metadata": {},
            "outputs": [
                {
                    "name": "stdout",
                    "output_type": "stream",
                    "text": "go see Pink Floyd\nmove on\n"
                }
            ],
            "source": "# Elif statement example\nage = 18\nif age > 18:\n    print(\"you can enter\")\nelif age == 18:\n    print(\"go see Pink Floyd\")\nelse:\n    print(\"go see Meat Loaf\")\nprint(\"move on\")"
        },
        {
            "cell_type": "code",
            "execution_count": 12,
            "metadata": {},
            "outputs": [
                {
                    "name": "stdout",
                    "output_type": "stream",
                    "text": "album year is greater than 1980\ndo something..\n"
                }
            ],
            "source": "# Condition statement example\n\nalbum_year = 1990\nif album_year > 1980:\n    print(\"album year is greater than 1980\")\nprint(\"do something..\")"
        },
        {
            "cell_type": "code",
            "execution_count": 13,
            "metadata": {},
            "outputs": [
                {
                    "name": "stdout",
                    "output_type": "stream",
                    "text": "less than 1980\ndo something..\n"
                }
            ],
            "source": "album_year = 1970\nif album_year > 1980:\n    print(\"album year is greater than 1980\")\nelse:\n    print(\"less than 1980\")\nprint(\"do something..\")"
        },
        {
            "cell_type": "markdown",
            "metadata": {},
            "source": "# Logical Operators"
        },
        {
            "cell_type": "code",
            "execution_count": 20,
            "metadata": {},
            "outputs": [
                {
                    "name": "stdout",
                    "output_type": "stream",
                    "text": "album year was in between 1980 and 1989\n\nDo Stuff..\n"
                }
            ],
            "source": "#Logic example\nalbum_year = 1980\n\nif(album_year > 1979) and (album_year < 1990):\n    print(\"album year was in between 1980 and 1989\")\nprint(\"\")\nprint(\"Do Stuff..\")"
        },
        {
            "cell_type": "code",
            "execution_count": 21,
            "metadata": {},
            "outputs": [
                {
                    "name": "stdout",
                    "output_type": "stream",
                    "text": "album was not made in the 1980's\n"
                }
            ],
            "source": "#Or example\nalbum_year = 1990\n\nif(album_year < 1980) or (album_year > 1989):\n    print(\"album was not made in the 1980's\")\nelse: \n    print(\"the album was made in the 1980's\")"
        },
        {
            "cell_type": "code",
            "execution_count": 23,
            "metadata": {},
            "outputs": [
                {
                    "name": "stdout",
                    "output_type": "stream",
                    "text": "Album year is not 1984\n"
                }
            ],
            "source": "album_year = 1983\n\nif not (album_year == '1984'):\n    print (\"Album year is not 1984\")"
        },
        {
            "cell_type": "code",
            "execution_count": null,
            "metadata": {},
            "outputs": [],
            "source": ""
        }
    ],
    "metadata": {
        "kernelspec": {
            "display_name": "Python 3.6",
            "language": "python",
            "name": "python3"
        },
        "language_info": {
            "codemirror_mode": {
                "name": "ipython",
                "version": 3
            },
            "file_extension": ".py",
            "mimetype": "text/x-python",
            "name": "python",
            "nbconvert_exporter": "python",
            "pygments_lexer": "ipython3",
            "version": "3.6.9"
        }
    },
    "nbformat": 4,
    "nbformat_minor": 1
}