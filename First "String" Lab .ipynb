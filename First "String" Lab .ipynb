{
    "cells": [
        {
            "metadata": {},
            "cell_type": "markdown",
            "source": "# Strings"
        },
        {
            "metadata": {},
            "cell_type": "code",
            "source": "# Strings can be in double quotations \n\"Michael Jackson\"",
            "execution_count": 3,
            "outputs": [
                {
                    "output_type": "execute_result",
                    "execution_count": 3,
                    "data": {
                        "text/plain": "'Michael Jackson'"
                    },
                    "metadata": {}
                }
            ]
        },
        {
            "metadata": {},
            "cell_type": "code",
            "source": "# Strings can be in single quotations\n'Michael Jackson'",
            "execution_count": 4,
            "outputs": [
                {
                    "output_type": "execute_result",
                    "execution_count": 4,
                    "data": {
                        "text/plain": "'Michael Jackson'"
                    },
                    "metadata": {}
                }
            ]
        },
        {
            "metadata": {},
            "cell_type": "code",
            "source": "# Digits and spaces in strings\n'1 2 3 4 5 6 '",
            "execution_count": 5,
            "outputs": [
                {
                    "output_type": "execute_result",
                    "execution_count": 5,
                    "data": {
                        "text/plain": "'1 2 3 4 5 6 '"
                    },
                    "metadata": {}
                }
            ]
        },
        {
            "metadata": {},
            "cell_type": "code",
            "source": "# Special characters in string\n\n'@#2_}&'",
            "execution_count": 6,
            "outputs": [
                {
                    "output_type": "execute_result",
                    "execution_count": 6,
                    "data": {
                        "text/plain": "'@#2_}&'"
                    },
                    "metadata": {}
                }
            ]
        },
        {
            "metadata": {},
            "cell_type": "code",
            "source": "# Print the string \nprint('Hello!')",
            "execution_count": 7,
            "outputs": [
                {
                    "output_type": "stream",
                    "text": "Hello!\n",
                    "name": "stdout"
                }
            ]
        },
        {
            "metadata": {},
            "cell_type": "code",
            "source": "# Assign string to variable\nName = \"Michael Jackson\"",
            "execution_count": 8,
            "outputs": []
        },
        {
            "metadata": {},
            "cell_type": "markdown",
            "source": "# Indexing "
        },
        {
            "metadata": {},
            "cell_type": "code",
            "source": "# Print first element in the string 'Name'\nprint(Name[0])",
            "execution_count": 9,
            "outputs": [
                {
                    "output_type": "stream",
                    "text": "M\n",
                    "name": "stdout"
                }
            ]
        },
        {
            "metadata": {},
            "cell_type": "code",
            "source": "# Print the element on the 13th index in the string\nprint(Name[13])",
            "execution_count": 10,
            "outputs": [
                {
                    "output_type": "stream",
                    "text": "o\n",
                    "name": "stdout"
                }
            ]
        },
        {
            "metadata": {},
            "cell_type": "markdown",
            "source": "# Negative Indexing"
        },
        {
            "metadata": {},
            "cell_type": "code",
            "source": "# Print the last element in the string\nprint(Name[-1])",
            "execution_count": 11,
            "outputs": [
                {
                    "output_type": "stream",
                    "text": "n\n",
                    "name": "stdout"
                }
            ]
        },
        {
            "metadata": {},
            "cell_type": "code",
            "source": "# Length of a string\nlen('Michael Jackson')",
            "execution_count": 12,
            "outputs": [
                {
                    "output_type": "execute_result",
                    "execution_count": 12,
                    "data": {
                        "text/plain": "15"
                    },
                    "metadata": {}
                }
            ]
        },
        {
            "metadata": {},
            "cell_type": "markdown",
            "source": " # Slicing"
        },
        {
            "metadata": {},
            "cell_type": "code",
            "source": "# Take the slice on variable Name with only index 0 to index 3 \nName[0:4]",
            "execution_count": 14,
            "outputs": [
                {
                    "output_type": "execute_result",
                    "execution_count": 14,
                    "data": {
                        "text/plain": "'Mich'"
                    },
                    "metadata": {}
                }
            ]
        },
        {
            "metadata": {},
            "cell_type": "code",
            "source": "# Take the slice on variable Name with only index 8 to index 11\nName[8:12]",
            "execution_count": 16,
            "outputs": [
                {
                    "output_type": "execute_result",
                    "execution_count": 16,
                    "data": {
                        "text/plain": "'Jack'"
                    },
                    "metadata": {}
                }
            ]
        },
        {
            "metadata": {},
            "cell_type": "markdown",
            "source": "# Stride "
        },
        {
            "metadata": {},
            "cell_type": "code",
            "source": "# Get every second element \nName[::2]",
            "execution_count": 17,
            "outputs": [
                {
                    "output_type": "execute_result",
                    "execution_count": 17,
                    "data": {
                        "text/plain": "'McalJcsn'"
                    },
                    "metadata": {}
                }
            ]
        },
        {
            "metadata": {},
            "cell_type": "code",
            "source": "# Get every second element in the range from index 0 to index 4 \nName[0:5:2]",
            "execution_count": 18,
            "outputs": [
                {
                    "output_type": "execute_result",
                    "execution_count": 18,
                    "data": {
                        "text/plain": "'Mca'"
                    },
                    "metadata": {}
                }
            ]
        },
        {
            "metadata": {},
            "cell_type": "code",
            "source": "# Concatenate two strings\nStatement = Name + \" is the best\"\nStatement",
            "execution_count": 22,
            "outputs": [
                {
                    "output_type": "execute_result",
                    "execution_count": 22,
                    "data": {
                        "text/plain": "'Michael Jackson is the best'"
                    },
                    "metadata": {}
                }
            ]
        },
        {
            "metadata": {},
            "cell_type": "code",
            "source": "# Print the string for 3 times*\n3 * \" Michael Jackson\"",
            "execution_count": 25,
            "outputs": [
                {
                    "output_type": "execute_result",
                    "execution_count": 25,
                    "data": {
                        "text/plain": "' Michael Jackson Michael Jackson Michael Jackson'"
                    },
                    "metadata": {}
                }
            ]
        },
        {
            "metadata": {},
            "cell_type": "code",
            "source": "# Concatenate strings\nName = 'Michael Jackson'\nName = Name + \" is the best\"\nName",
            "execution_count": 28,
            "outputs": [
                {
                    "output_type": "execute_result",
                    "execution_count": 28,
                    "data": {
                        "text/plain": "'Michael Jackson is the best'"
                    },
                    "metadata": {}
                }
            ]
        },
        {
            "metadata": {},
            "cell_type": "markdown",
            "source": "# Escape Sequences "
        },
        {
            "metadata": {},
            "cell_type": "code",
            "source": "# New line escape sequence \nprint(\" Michael Jackson \\n is the best\")",
            "execution_count": 29,
            "outputs": [
                {
                    "output_type": "stream",
                    "text": " Michael Jackson \n is the best\n",
                    "name": "stdout"
                }
            ]
        },
        {
            "metadata": {},
            "cell_type": "code",
            "source": "# Tab escape sequence\nprint( \"Michael Jackson \\t is the best\")",
            "execution_count": 30,
            "outputs": [
                {
                    "output_type": "stream",
                    "text": "Michael Jackson \t is the best\n",
                    "name": "stdout"
                }
            ]
        },
        {
            "metadata": {},
            "cell_type": "code",
            "source": "# Include back slash in string\nprint(\" Michael Jackson \\\\ is the best\")",
            "execution_count": 31,
            "outputs": [
                {
                    "output_type": "stream",
                    "text": " Michael Jackson \\ is the best\n",
                    "name": "stdout"
                }
            ]
        },
        {
            "metadata": {},
            "cell_type": "code",
            "source": "# r will tell python string will be dsiplayed raw \nprint(r\" Michael Jackson \\ is the best\")",
            "execution_count": 33,
            "outputs": [
                {
                    "output_type": "stream",
                    "text": " Michael Jackson \\ is the best\n",
                    "name": "stdout"
                }
            ]
        },
        {
            "metadata": {},
            "cell_type": "markdown",
            "source": "# String Operations"
        },
        {
            "metadata": {},
            "cell_type": "code",
            "source": "# Convert all characters in string to upper case\nA  = \"Thriller is the sixth studio album\"\nprint(\"Before upper:\", A)\nB = A.upper()\nprint(\"After upper:\", B)",
            "execution_count": 34,
            "outputs": [
                {
                    "output_type": "stream",
                    "text": "Before upper: Thriller is the sixth studio album\nAfter upper: THRILLER IS THE SIXTH STUDIO ALBUM\n",
                    "name": "stdout"
                }
            ]
        },
        {
            "metadata": {},
            "cell_type": "code",
            "source": "# Replace the old string with the new target substring\nA = \"Michael Jackson is the best\"\nB = A.replace('Michael', 'Janet')\nB",
            "execution_count": 36,
            "outputs": [
                {
                    "output_type": "execute_result",
                    "execution_count": 36,
                    "data": {
                        "text/plain": "'Janet Jackson is the best'"
                    },
                    "metadata": {}
                }
            ]
        },
        {
            "metadata": {},
            "cell_type": "code",
            "source": "# Find substring in string and it will display first index \nName = \"Michael Jackson\"\nName.find('el')",
            "execution_count": 37,
            "outputs": [
                {
                    "output_type": "execute_result",
                    "execution_count": 37,
                    "data": {
                        "text/plain": "5"
                    },
                    "metadata": {}
                }
            ]
        },
        {
            "metadata": {},
            "cell_type": "code",
            "source": "#Find the substring in string\nName.find('Jack')",
            "execution_count": 38,
            "outputs": [
                {
                    "output_type": "execute_result",
                    "execution_count": 38,
                    "data": {
                        "text/plain": "8"
                    },
                    "metadata": {}
                }
            ]
        },
        {
            "metadata": {},
            "cell_type": "code",
            "source": "# If cannot find subtring in string\nName.find('jasdfasdasdf')",
            "execution_count": 39,
            "outputs": [
                {
                    "output_type": "execute_result",
                    "execution_count": 39,
                    "data": {
                        "text/plain": "-1"
                    },
                    "metadata": {}
                }
            ]
        },
        {
            "metadata": {},
            "cell_type": "markdown",
            "source": "# ----------"
        },
        {
            "metadata": {},
            "cell_type": "code",
            "source": "A = \"1\"",
            "execution_count": 40,
            "outputs": []
        },
        {
            "metadata": {},
            "cell_type": "code",
            "source": "B = \"2\"\nB",
            "execution_count": 41,
            "outputs": [
                {
                    "output_type": "execute_result",
                    "execution_count": 41,
                    "data": {
                        "text/plain": "'2'"
                    },
                    "metadata": {}
                }
            ]
        },
        {
            "metadata": {},
            "cell_type": "code",
            "source": "C = A + B\nC",
            "execution_count": 42,
            "outputs": [
                {
                    "output_type": "execute_result",
                    "execution_count": 42,
                    "data": {
                        "text/plain": "'12'"
                    },
                    "metadata": {}
                }
            ]
        },
        {
            "metadata": {},
            "cell_type": "code",
            "source": "D = \"ABCDEFG\"\nprint(D[0:3])",
            "execution_count": 43,
            "outputs": [
                {
                    "output_type": "stream",
                    "text": "ABC\n",
                    "name": "stdout"
                }
            ]
        },
        {
            "metadata": {},
            "cell_type": "code",
            "source": "E = 'clocrkr1e1c1t'\nprint(E[::2])",
            "execution_count": 1,
            "outputs": [
                {
                    "output_type": "stream",
                    "text": "correct\n",
                    "name": "stdout"
                }
            ]
        },
        {
            "metadata": {},
            "cell_type": "code",
            "source": "print('\\\\')",
            "execution_count": 2,
            "outputs": [
                {
                    "output_type": "stream",
                    "text": "\\\n",
                    "name": "stdout"
                }
            ]
        },
        {
            "metadata": {},
            "cell_type": "code",
            "source": "print(r\" \\ \")",
            "execution_count": 6,
            "outputs": [
                {
                    "output_type": "stream",
                    "text": " \\ \n",
                    "name": "stdout"
                }
            ]
        },
        {
            "metadata": {},
            "cell_type": "code",
            "source": "F = 'you are wrong'\nF.upper()",
            "execution_count": 9,
            "outputs": [
                {
                    "output_type": "execute_result",
                    "execution_count": 9,
                    "data": {
                        "text/plain": "'YOU ARE WRONG'"
                    },
                    "metadata": {}
                }
            ]
        },
        {
            "metadata": {},
            "cell_type": "code",
            "source": "G = \"Mary had a little lamb Little lamb, little lamb Mary had a little lamb \\\nIts fleece was white as snow And everywhere that Mary went Mary went, Mary went \\\nEverywhere that Mary went The lamb was sure to go\"\nG",
            "execution_count": 11,
            "outputs": [
                {
                    "output_type": "execute_result",
                    "execution_count": 11,
                    "data": {
                        "text/plain": "'Mary had a little lamb Little lamb, little lamb Mary had a little lamb Its fleece was white as snow And everywhere that Mary went Mary went, Mary went Everywhere that Mary went The lamb was sure to go'"
                    },
                    "metadata": {}
                }
            ]
        },
        {
            "metadata": {},
            "cell_type": "code",
            "source": "G.find('snow')",
            "execution_count": 12,
            "outputs": [
                {
                    "output_type": "execute_result",
                    "execution_count": 12,
                    "data": {
                        "text/plain": "95"
                    },
                    "metadata": {}
                }
            ]
        },
        {
            "metadata": {},
            "cell_type": "code",
            "source": "G.replace('Mary', 'Bob')",
            "execution_count": 13,
            "outputs": [
                {
                    "output_type": "execute_result",
                    "execution_count": 13,
                    "data": {
                        "text/plain": "'Bob had a little lamb Little lamb, little lamb Bob had a little lamb Its fleece was white as snow And everywhere that Bob went Bob went, Bob went Everywhere that Bob went The lamb was sure to go'"
                    },
                    "metadata": {}
                }
            ]
        },
        {
            "metadata": {},
            "cell_type": "code",
            "source": "",
            "execution_count": null,
            "outputs": []
        }
    ],
    "metadata": {
        "kernelspec": {
            "name": "python3",
            "display_name": "Python 3.6",
            "language": "python"
        },
        "language_info": {
            "name": "python",
            "version": "3.6.9",
            "mimetype": "text/x-python",
            "codemirror_mode": {
                "name": "ipython",
                "version": 3
            },
            "pygments_lexer": "ipython3",
            "nbconvert_exporter": "python",
            "file_extension": ".py"
        }
    },
    "nbformat": 4,
    "nbformat_minor": 1
}